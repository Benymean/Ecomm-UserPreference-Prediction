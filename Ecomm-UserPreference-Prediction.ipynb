{
 "cells": [
  {
   "cell_type": "markdown",
   "id": "Z88FfJc9lA_T",
   "metadata": {
    "id": "Z88FfJc9lA_T"
   },
   "source": [
    "## Analysis of an E-commerce Dataset Part 3 (s2 2023)"
   ]
  },
  {
   "cell_type": "markdown",
   "id": "hoq0NwA9lA_V",
   "metadata": {
    "id": "hoq0NwA9lA_V"
   },
   "source": [
    "In this Portfolio task, my objective is to develop predictive models for 'rating' based on various features in the dataset, where 'rating' is converted to binary values: 1 for 'like' and 0 for 'dislike'. Here's a breakdown of the steps I'll follow:\n",
    "\n",
    "- Data Exploration and Cleaning: I'll start by exploring the dataset, checking for any anomalies or missing values, and cleaning the data if necessary. This may involve removing abnormal instances and handling missing values appropriately.\n",
    "- Feature Encoding: Next, I'll convert categorical features into numerical features using an encoder, as many machine learning models require numerical input.\n",
    "- Correlation Analysis: I'll examine the correlation between different features to understand their relationships and potential impact on the target variable ('rating').\n",
    "- Logistic Regression Model: I'll split the dataset into training and testing sets and train a logistic regression model to predict 'rating' based on other features. I'll evaluate the accuracy of this model.\n",
    "- K-Nearest Neighbors (KNN) Model: Similarly, I'll split the dataset and train a KNN model to predict 'rating'. I'll initially set the value of K arbitrarily. Then, I'll evaluate the accuracy of this model.\n",
    "- Hyperparameter Tuning for KNN: To improve the KNN model's performance, I'll tune the hyperparameter K using techniques like grid search or cross-validation. This step will help me understand how different values of K influence prediction performance.\n",
    "\n",
    "Throughout this process, I'll document my steps and findings in the notebook, ensuring clarity and readability. Lastly, I'll discuss the performance of both the Logistic Regression and KNN models, highlighting their strengths and weaknesses in solving the classification problem."
   ]
  },
  {
   "cell_type": "markdown",
   "id": "63ee2fde",
   "metadata": {},
   "source": [
    "# Importing Libraries and assets"
   ]
  },
  {
   "cell_type": "code",
   "execution_count": null,
   "id": "dcf2e64c",
   "metadata": {},
   "outputs": [],
   "source": [
    "#Importing Libraries and assets\n",
    "import numpy as np\n",
    "import pandas as pd\n",
    "import seaborn as sns\n",
    "import matplotlib.pyplot as plt\n",
    "%matplotlib inline\n",
    "from sklearn.preprocessing import LabelEncoder\n",
    "from sklearn.model_selection import train_test_split\n",
    "from sklearn.linear_model import LogisticRegression\n",
    "from sklearn.metrics import accuracy_score\n",
    "from sklearn.neighbors import KNeighborsClassifier\n"
   ]
  },
  {
   "cell_type": "markdown",
   "id": "4f559c0d",
   "metadata": {},
   "source": [
    "# 1. Exploring & Cleaning Our Data\n",
    "first we explore data to understand it better, then check for abnormal values"
   ]
  },
  {
   "cell_type": "code",
   "execution_count": null,
   "id": "543a25e5",
   "metadata": {},
   "outputs": [
    {
     "data": {
      "text/html": [
       "<div>\n",
       "<style scoped>\n",
       "    .dataframe tbody tr th:only-of-type {\n",
       "        vertical-align: middle;\n",
       "    }\n",
       "\n",
       "    .dataframe tbody tr th {\n",
       "        vertical-align: top;\n",
       "    }\n",
       "\n",
       "    .dataframe thead th {\n",
       "        text-align: right;\n",
       "    }\n",
       "</style>\n",
       "<table border=\"1\" class=\"dataframe\">\n",
       "  <thead>\n",
       "    <tr style=\"text-align: right;\">\n",
       "      <th></th>\n",
       "      <th>userId</th>\n",
       "      <th>timestamp</th>\n",
       "      <th>review</th>\n",
       "      <th>item</th>\n",
       "      <th>helpfulness</th>\n",
       "      <th>gender</th>\n",
       "      <th>category</th>\n",
       "      <th>item_id</th>\n",
       "      <th>item_price</th>\n",
       "      <th>user_city</th>\n",
       "      <th>rating</th>\n",
       "    </tr>\n",
       "  </thead>\n",
       "  <tbody>\n",
       "    <tr>\n",
       "      <th>0</th>\n",
       "      <td>4081</td>\n",
       "      <td>71900</td>\n",
       "      <td>Not always McCrap</td>\n",
       "      <td>McDonald's</td>\n",
       "      <td>3</td>\n",
       "      <td>M</td>\n",
       "      <td>Restaurants &amp; Gourmet</td>\n",
       "      <td>41</td>\n",
       "      <td>30.74</td>\n",
       "      <td>4</td>\n",
       "      <td>1</td>\n",
       "    </tr>\n",
       "    <tr>\n",
       "      <th>1</th>\n",
       "      <td>4081</td>\n",
       "      <td>72000</td>\n",
       "      <td>I dropped the chalupa even before he told me to</td>\n",
       "      <td>Taco Bell</td>\n",
       "      <td>4</td>\n",
       "      <td>M</td>\n",
       "      <td>Restaurants &amp; Gourmet</td>\n",
       "      <td>74</td>\n",
       "      <td>108.30</td>\n",
       "      <td>4</td>\n",
       "      <td>0</td>\n",
       "    </tr>\n",
       "    <tr>\n",
       "      <th>2</th>\n",
       "      <td>4081</td>\n",
       "      <td>72000</td>\n",
       "      <td>The Wonderful World of Wendy</td>\n",
       "      <td>Wendy's</td>\n",
       "      <td>4</td>\n",
       "      <td>M</td>\n",
       "      <td>Restaurants &amp; Gourmet</td>\n",
       "      <td>84</td>\n",
       "      <td>69.00</td>\n",
       "      <td>4</td>\n",
       "      <td>1</td>\n",
       "    </tr>\n",
       "    <tr>\n",
       "      <th>3</th>\n",
       "      <td>4081</td>\n",
       "      <td>100399</td>\n",
       "      <td>They actually did it</td>\n",
       "      <td>South Park: Bigger, Longer &amp; Uncut</td>\n",
       "      <td>3</td>\n",
       "      <td>M</td>\n",
       "      <td>Movies</td>\n",
       "      <td>68</td>\n",
       "      <td>143.11</td>\n",
       "      <td>4</td>\n",
       "      <td>1</td>\n",
       "    </tr>\n",
       "    <tr>\n",
       "      <th>4</th>\n",
       "      <td>4081</td>\n",
       "      <td>100399</td>\n",
       "      <td>Hey! Gimme some pie!</td>\n",
       "      <td>American Pie</td>\n",
       "      <td>3</td>\n",
       "      <td>M</td>\n",
       "      <td>Movies</td>\n",
       "      <td>6</td>\n",
       "      <td>117.89</td>\n",
       "      <td>4</td>\n",
       "      <td>0</td>\n",
       "    </tr>\n",
       "    <tr>\n",
       "      <th>5</th>\n",
       "      <td>4081</td>\n",
       "      <td>100399</td>\n",
       "      <td>Good for sci-fi</td>\n",
       "      <td>Matrix</td>\n",
       "      <td>3</td>\n",
       "      <td>M</td>\n",
       "      <td>Movies</td>\n",
       "      <td>40</td>\n",
       "      <td>24.51</td>\n",
       "      <td>4</td>\n",
       "      <td>0</td>\n",
       "    </tr>\n",
       "    <tr>\n",
       "      <th>6</th>\n",
       "      <td>4081</td>\n",
       "      <td>100399</td>\n",
       "      <td>Scary? you bet!</td>\n",
       "      <td>Blair Witch Project</td>\n",
       "      <td>3</td>\n",
       "      <td>M</td>\n",
       "      <td>Movies</td>\n",
       "      <td>12</td>\n",
       "      <td>44.00</td>\n",
       "      <td>4</td>\n",
       "      <td>1</td>\n",
       "    </tr>\n",
       "    <tr>\n",
       "      <th>7</th>\n",
       "      <td>4081</td>\n",
       "      <td>101899</td>\n",
       "      <td>Fox - the 4th basic channel</td>\n",
       "      <td>FOX</td>\n",
       "      <td>4</td>\n",
       "      <td>M</td>\n",
       "      <td>Media</td>\n",
       "      <td>25</td>\n",
       "      <td>80.00</td>\n",
       "      <td>4</td>\n",
       "      <td>1</td>\n",
       "    </tr>\n",
       "    <tr>\n",
       "      <th>8</th>\n",
       "      <td>4081</td>\n",
       "      <td>112099</td>\n",
       "      <td>Amen!</td>\n",
       "      <td>Dogma</td>\n",
       "      <td>3</td>\n",
       "      <td>M</td>\n",
       "      <td>Movies</td>\n",
       "      <td>22</td>\n",
       "      <td>87.59</td>\n",
       "      <td>4</td>\n",
       "      <td>1</td>\n",
       "    </tr>\n",
       "    <tr>\n",
       "      <th>9</th>\n",
       "      <td>4081</td>\n",
       "      <td>122899</td>\n",
       "      <td>mama mia!</td>\n",
       "      <td>Olive Garden</td>\n",
       "      <td>3</td>\n",
       "      <td>M</td>\n",
       "      <td>Restaurants &amp; Gourmet</td>\n",
       "      <td>49</td>\n",
       "      <td>32.00</td>\n",
       "      <td>4</td>\n",
       "      <td>1</td>\n",
       "    </tr>\n",
       "  </tbody>\n",
       "</table>\n",
       "</div>"
      ],
      "text/plain": [
       "   userId  timestamp                                           review  \\\n",
       "0    4081      71900                                Not always McCrap   \n",
       "1    4081      72000  I dropped the chalupa even before he told me to   \n",
       "2    4081      72000                     The Wonderful World of Wendy   \n",
       "3    4081     100399                             They actually did it   \n",
       "4    4081     100399                             Hey! Gimme some pie!   \n",
       "5    4081     100399                                  Good for sci-fi   \n",
       "6    4081     100399                                  Scary? you bet!   \n",
       "7    4081     101899                      Fox - the 4th basic channel   \n",
       "8    4081     112099                                            Amen!   \n",
       "9    4081     122899                                        mama mia!   \n",
       "\n",
       "                                 item  helpfulness gender  \\\n",
       "0                          McDonald's            3      M   \n",
       "1                           Taco Bell            4      M   \n",
       "2                             Wendy's            4      M   \n",
       "3  South Park: Bigger, Longer & Uncut            3      M   \n",
       "4                        American Pie            3      M   \n",
       "5                              Matrix            3      M   \n",
       "6                 Blair Witch Project            3      M   \n",
       "7                                 FOX            4      M   \n",
       "8                               Dogma            3      M   \n",
       "9                        Olive Garden            3      M   \n",
       "\n",
       "                category  item_id  item_price  user_city  rating  \n",
       "0  Restaurants & Gourmet       41       30.74          4       1  \n",
       "1  Restaurants & Gourmet       74      108.30          4       0  \n",
       "2  Restaurants & Gourmet       84       69.00          4       1  \n",
       "3                 Movies       68      143.11          4       1  \n",
       "4                 Movies        6      117.89          4       0  \n",
       "5                 Movies       40       24.51          4       0  \n",
       "6                 Movies       12       44.00          4       1  \n",
       "7                  Media       25       80.00          4       1  \n",
       "8                 Movies       22       87.59          4       1  \n",
       "9  Restaurants & Gourmet       49       32.00          4       1  "
      ]
     },
     "execution_count": 110,
     "metadata": {},
     "output_type": "execute_result"
    }
   ],
   "source": [
    "ecomdata = pd.read_csv(\"portfolio_3.csv\")\n",
    "ecomdata.head(10)"
   ]
  },
  {
   "cell_type": "code",
   "execution_count": null,
   "id": "49795524",
   "metadata": {},
   "outputs": [
    {
     "data": {
      "text/plain": [
       "(2685, 11)"
      ]
     },
     "execution_count": 111,
     "metadata": {},
     "output_type": "execute_result"
    }
   ],
   "source": [
    "ecomdata.shape"
   ]
  },
  {
   "cell_type": "markdown",
   "id": "c4ea274b",
   "metadata": {},
   "source": [
    "## 1.1 Checking for missing & duplicate values as well as outliers"
   ]
  },
  {
   "cell_type": "code",
   "execution_count": null,
   "id": "d9926163",
   "metadata": {},
   "outputs": [
    {
     "name": "stdout",
     "output_type": "stream",
     "text": [
      "<class 'pandas.core.frame.DataFrame'>\n",
      "RangeIndex: 2685 entries, 0 to 2684\n",
      "Data columns (total 11 columns):\n",
      " #   Column       Non-Null Count  Dtype  \n",
      "---  ------       --------------  -----  \n",
      " 0   userId       2685 non-null   int64  \n",
      " 1   timestamp    2685 non-null   int64  \n",
      " 2   review       2685 non-null   object \n",
      " 3   item         2685 non-null   object \n",
      " 4   helpfulness  2685 non-null   int64  \n",
      " 5   gender       2685 non-null   object \n",
      " 6   category     2685 non-null   object \n",
      " 7   item_id      2685 non-null   int64  \n",
      " 8   item_price   2685 non-null   float64\n",
      " 9   user_city    2685 non-null   int64  \n",
      " 10  rating       2685 non-null   int64  \n",
      "dtypes: float64(1), int64(6), object(4)\n",
      "memory usage: 230.9+ KB\n"
     ]
    }
   ],
   "source": [
    "ecomdata.info()"
   ]
  },
  {
   "cell_type": "markdown",
   "id": "fd6b4a13",
   "metadata": {},
   "source": [
    "**There no null values in our dataset**"
   ]
  },
  {
   "cell_type": "code",
   "execution_count": null,
   "id": "633785e6",
   "metadata": {},
   "outputs": [
    {
     "data": {
      "text/plain": [
       "0"
      ]
     },
     "execution_count": 113,
     "metadata": {},
     "output_type": "execute_result"
    }
   ],
   "source": [
    "#counting number of duplicate rows in our dataset\n",
    "ecomdata.duplicated().sum()"
   ]
  },
  {
   "cell_type": "markdown",
   "id": "74208ea4",
   "metadata": {},
   "source": [
    "**There are no duplicates in our dataset**"
   ]
  },
  {
   "cell_type": "markdown",
   "id": "9e08a014",
   "metadata": {},
   "source": [
    "**now let's check for outliers**"
   ]
  },
  {
   "cell_type": "code",
   "execution_count": null,
   "id": "7a066680",
   "metadata": {},
   "outputs": [
    {
     "data": {
      "image/png": "[encoded data removed]",
      "text/plain": [
       "<Figure size 1500x1000 with 4 Axes>"
      ]
     },
     "metadata": {},
     "output_type": "display_data"
    }
   ],
   "source": [
    "plt.figure(figsize=(15, 10))\n",
    "\n",
    "# Plot boxplots for each numerical column\n",
    "numerical_columns = ['timestamp', 'helpfulness', 'item_price', 'user_city']\n",
    "for i, col in enumerate(numerical_columns, 1):\n",
    "    plt.subplot(2, 4, i)\n",
    "    sns.boxplot(data=ecomdata[col])\n",
    "    plt.title(col)\n",
    "\n",
    "plt.tight_layout()\n",
    "plt.show()"
   ]
  },
  {
   "cell_type": "markdown",
   "id": "27d18df9",
   "metadata": {},
   "source": [
    "- timestamp: No apparent outliers.\n",
    "- helpfulness: most of the values are around 4, there are possible outliers we need further analysis.\n",
    "- item_id: Uniformly distributed, no visible outliers.\n",
    "- item_price: no visible outliers.\n",
    "- user_city: Uniformly distributed, no visible outliers."
   ]
  },
  {
   "cell_type": "code",
   "execution_count": null,
   "id": "01169c91",
   "metadata": {},
   "outputs": [
    {
     "data": {
      "text/plain": [
       "count    2685.000000\n",
       "mean        3.908007\n",
       "std         0.289069\n",
       "min         3.000000\n",
       "25%         4.000000\n",
       "50%         4.000000\n",
       "75%         4.000000\n",
       "max         4.000000\n",
       "Name: helpfulness, dtype: float64"
      ]
     },
     "execution_count": 115,
     "metadata": {},
     "output_type": "execute_result"
    }
   ],
   "source": [
    "ecomdata['helpfulness'].describe()"
   ]
  },
  {
   "cell_type": "markdown",
   "id": "921043bb",
   "metadata": {},
   "source": [
    "**there are outliers for helpfulness so i cleared them**"
   ]
  },
  {
   "cell_type": "code",
   "execution_count": null,
   "id": "02198421",
   "metadata": {},
   "outputs": [
    {
     "data": {
      "text/plain": [
       "((2685, 11), (2438, 11))"
      ]
     },
     "execution_count": 116,
     "metadata": {},
     "output_type": "execute_result"
    }
   ],
   "source": [
    "# Calculate IQR\n",
    "Q1 = ecomdata['helpfulness'].quantile(0.25)\n",
    "Q3 = ecomdata['helpfulness'].quantile(0.75)\n",
    "IQR = Q3 - Q1\n",
    "\n",
    "# bounds for the outliers\n",
    "lower_bound = Q1 - 1.5 * IQR\n",
    "upper_bound = Q3 + 1.5 * IQR\n",
    "\n",
    "# Filter out the outliers\n",
    "data_clean = ecomdata[(ecomdata['helpfulness'] >= lower_bound) & (ecomdata['helpfulness'] <= upper_bound)]\n",
    "\n",
    "# Display the shape of the original and cleaned data\n",
    "original_shape = ecomdata.shape\n",
    "cleaned_shape = data_clean.shape\n",
    "\n",
    "original_shape, cleaned_shape\n"
   ]
  },
  {
   "cell_type": "markdown",
   "id": "26cd5af8",
   "metadata": {},
   "source": [
    "# 2. Encoding and converting categorical data\n",
    "The categorical variables are review, item, gender and category\n",
    "I used Label Encoding that assigns integers to different categories"
   ]
  },
  {
   "cell_type": "code",
   "execution_count": null,
   "id": "7b1ed18c",
   "metadata": {},
   "outputs": [
    {
     "name": "stderr",
     "output_type": "stream",
     "text": [
      "/var/folders/zg/n55613c165571_84fgh2td8h0000gn/T/ipykernel_13226/3374948622.py:6: SettingWithCopyWarning: \n",
      "A value is trying to be set on a copy of a slice from a DataFrame.\n",
      "Try using .loc[row_indexer,col_indexer] = value instead\n",
      "\n",
      "See the caveats in the documentation: https://pandas.pydata.org/pandas-docs/stable/user_guide/indexing.html#returning-a-view-versus-a-copy\n",
      "  data_clean[feature] = encoder.fit_transform(data_clean[feature])\n",
      "/var/folders/zg/n55613c165571_84fgh2td8h0000gn/T/ipykernel_13226/3374948622.py:6: SettingWithCopyWarning: \n",
      "A value is trying to be set on a copy of a slice from a DataFrame.\n",
      "Try using .loc[row_indexer,col_indexer] = value instead\n",
      "\n",
      "See the caveats in the documentation: https://pandas.pydata.org/pandas-docs/stable/user_guide/indexing.html#returning-a-view-versus-a-copy\n",
      "  data_clean[feature] = encoder.fit_transform(data_clean[feature])\n",
      "/var/folders/zg/n55613c165571_84fgh2td8h0000gn/T/ipykernel_13226/3374948622.py:6: SettingWithCopyWarning: \n",
      "A value is trying to be set on a copy of a slice from a DataFrame.\n",
      "Try using .loc[row_indexer,col_indexer] = value instead\n",
      "\n",
      "See the caveats in the documentation: https://pandas.pydata.org/pandas-docs/stable/user_guide/indexing.html#returning-a-view-versus-a-copy\n",
      "  data_clean[feature] = encoder.fit_transform(data_clean[feature])\n",
      "/var/folders/zg/n55613c165571_84fgh2td8h0000gn/T/ipykernel_13226/3374948622.py:6: SettingWithCopyWarning: \n",
      "A value is trying to be set on a copy of a slice from a DataFrame.\n",
      "Try using .loc[row_indexer,col_indexer] = value instead\n",
      "\n",
      "See the caveats in the documentation: https://pandas.pydata.org/pandas-docs/stable/user_guide/indexing.html#returning-a-view-versus-a-copy\n",
      "  data_clean[feature] = encoder.fit_transform(data_clean[feature])\n"
     ]
    },
    {
     "data": {
      "text/html": [
       "<div>\n",
       "<style scoped>\n",
       "    .dataframe tbody tr th:only-of-type {\n",
       "        vertical-align: middle;\n",
       "    }\n",
       "\n",
       "    .dataframe tbody tr th {\n",
       "        vertical-align: top;\n",
       "    }\n",
       "\n",
       "    .dataframe thead th {\n",
       "        text-align: right;\n",
       "    }\n",
       "</style>\n",
       "<table border=\"1\" class=\"dataframe\">\n",
       "  <thead>\n",
       "    <tr style=\"text-align: right;\">\n",
       "      <th></th>\n",
       "      <th>userId</th>\n",
       "      <th>timestamp</th>\n",
       "      <th>review</th>\n",
       "      <th>item</th>\n",
       "      <th>helpfulness</th>\n",
       "      <th>gender</th>\n",
       "      <th>category</th>\n",
       "      <th>item_id</th>\n",
       "      <th>item_price</th>\n",
       "      <th>user_city</th>\n",
       "      <th>rating</th>\n",
       "    </tr>\n",
       "  </thead>\n",
       "  <tbody>\n",
       "    <tr>\n",
       "      <th>1</th>\n",
       "      <td>4081</td>\n",
       "      <td>72000</td>\n",
       "      <td>1015</td>\n",
       "      <td>67</td>\n",
       "      <td>4</td>\n",
       "      <td>1</td>\n",
       "      <td>8</td>\n",
       "      <td>74</td>\n",
       "      <td>108.30</td>\n",
       "      <td>4</td>\n",
       "      <td>0</td>\n",
       "    </tr>\n",
       "    <tr>\n",
       "      <th>2</th>\n",
       "      <td>4081</td>\n",
       "      <td>72000</td>\n",
       "      <td>2000</td>\n",
       "      <td>77</td>\n",
       "      <td>4</td>\n",
       "      <td>1</td>\n",
       "      <td>8</td>\n",
       "      <td>84</td>\n",
       "      <td>69.00</td>\n",
       "      <td>4</td>\n",
       "      <td>1</td>\n",
       "    </tr>\n",
       "    <tr>\n",
       "      <th>7</th>\n",
       "      <td>4081</td>\n",
       "      <td>101899</td>\n",
       "      <td>731</td>\n",
       "      <td>23</td>\n",
       "      <td>4</td>\n",
       "      <td>1</td>\n",
       "      <td>4</td>\n",
       "      <td>25</td>\n",
       "      <td>80.00</td>\n",
       "      <td>4</td>\n",
       "      <td>1</td>\n",
       "    </tr>\n",
       "    <tr>\n",
       "      <th>11</th>\n",
       "      <td>4159</td>\n",
       "      <td>22304</td>\n",
       "      <td>834</td>\n",
       "      <td>45</td>\n",
       "      <td>4</td>\n",
       "      <td>1</td>\n",
       "      <td>8</td>\n",
       "      <td>50</td>\n",
       "      <td>25.00</td>\n",
       "      <td>10</td>\n",
       "      <td>1</td>\n",
       "    </tr>\n",
       "    <tr>\n",
       "      <th>12</th>\n",
       "      <td>4159</td>\n",
       "      <td>60203</td>\n",
       "      <td>232</td>\n",
       "      <td>29</td>\n",
       "      <td>4</td>\n",
       "      <td>1</td>\n",
       "      <td>6</td>\n",
       "      <td>32</td>\n",
       "      <td>100.62</td>\n",
       "      <td>10</td>\n",
       "      <td>1</td>\n",
       "    </tr>\n",
       "  </tbody>\n",
       "</table>\n",
       "</div>"
      ],
      "text/plain": [
       "    userId  timestamp  review  item  helpfulness  gender  category  item_id  \\\n",
       "1     4081      72000    1015    67            4       1         8       74   \n",
       "2     4081      72000    2000    77            4       1         8       84   \n",
       "7     4081     101899     731    23            4       1         4       25   \n",
       "11    4159      22304     834    45            4       1         8       50   \n",
       "12    4159      60203     232    29            4       1         6       32   \n",
       "\n",
       "    item_price  user_city  rating  \n",
       "1       108.30          4       0  \n",
       "2        69.00          4       1  \n",
       "7        80.00          4       1  \n",
       "11       25.00         10       1  \n",
       "12      100.62         10       1  "
      ]
     },
     "execution_count": 117,
     "metadata": {},
     "output_type": "execute_result"
    }
   ],
   "source": [
    "# List of categorical features to encode\n",
    "categorical_features = ['review', 'item', 'gender', 'category']\n",
    "\n",
    "# Apply LabelEncoder on categorical features\n",
    "for feature in categorical_features:\n",
    "    data_clean[feature] = encoder.fit_transform(data_clean[feature])\n",
    "\n",
    "# Display the first few rows of the dataset after encoding\n",
    "data_clean.head()\n"
   ]
  },
  {
   "cell_type": "markdown",
   "id": "6ae48fd3",
   "metadata": {},
   "source": [
    "# 3. Further Analysing Data for Correlation\n",
    "we check data to see our correlations"
   ]
  },
  {
   "cell_type": "code",
   "execution_count": null,
   "id": "69e60a16",
   "metadata": {},
   "outputs": [
    {
     "data": {
      "text/html": [
       "<div>\n",
       "<style scoped>\n",
       "    .dataframe tbody tr th:only-of-type {\n",
       "        vertical-align: middle;\n",
       "    }\n",
       "\n",
       "    .dataframe tbody tr th {\n",
       "        vertical-align: top;\n",
       "    }\n",
       "\n",
       "    .dataframe thead th {\n",
       "        text-align: right;\n",
       "    }\n",
       "</style>\n",
       "<table border=\"1\" class=\"dataframe\">\n",
       "  <thead>\n",
       "    <tr style=\"text-align: right;\">\n",
       "      <th></th>\n",
       "      <th>userId</th>\n",
       "      <th>timestamp</th>\n",
       "      <th>review</th>\n",
       "      <th>item</th>\n",
       "      <th>helpfulness</th>\n",
       "      <th>gender</th>\n",
       "      <th>category</th>\n",
       "      <th>item_id</th>\n",
       "      <th>item_price</th>\n",
       "      <th>user_city</th>\n",
       "      <th>rating</th>\n",
       "    </tr>\n",
       "  </thead>\n",
       "  <tbody>\n",
       "    <tr>\n",
       "      <th>userId</th>\n",
       "      <td>1.000000</td>\n",
       "      <td>-0.070805</td>\n",
       "      <td>0.006841</td>\n",
       "      <td>-0.012785</td>\n",
       "      <td>NaN</td>\n",
       "      <td>-0.038536</td>\n",
       "      <td>-0.054610</td>\n",
       "      <td>-0.012764</td>\n",
       "      <td>0.022551</td>\n",
       "      <td>-0.058863</td>\n",
       "      <td>0.070893</td>\n",
       "    </tr>\n",
       "    <tr>\n",
       "      <th>timestamp</th>\n",
       "      <td>-0.070805</td>\n",
       "      <td>1.000000</td>\n",
       "      <td>-0.006058</td>\n",
       "      <td>-0.002174</td>\n",
       "      <td>NaN</td>\n",
       "      <td>-0.005701</td>\n",
       "      <td>0.011962</td>\n",
       "      <td>-0.003594</td>\n",
       "      <td>0.020206</td>\n",
       "      <td>-0.011367</td>\n",
       "      <td>0.001893</td>\n",
       "    </tr>\n",
       "    <tr>\n",
       "      <th>review</th>\n",
       "      <td>0.006841</td>\n",
       "      <td>-0.006058</td>\n",
       "      <td>1.000000</td>\n",
       "      <td>0.173289</td>\n",
       "      <td>NaN</td>\n",
       "      <td>-0.036737</td>\n",
       "      <td>0.011270</td>\n",
       "      <td>0.173589</td>\n",
       "      <td>-0.039548</td>\n",
       "      <td>0.049058</td>\n",
       "      <td>-0.037373</td>\n",
       "    </tr>\n",
       "    <tr>\n",
       "      <th>item</th>\n",
       "      <td>-0.012785</td>\n",
       "      <td>-0.002174</td>\n",
       "      <td>0.173289</td>\n",
       "      <td>1.000000</td>\n",
       "      <td>NaN</td>\n",
       "      <td>0.000201</td>\n",
       "      <td>-0.049368</td>\n",
       "      <td>0.999765</td>\n",
       "      <td>-0.058070</td>\n",
       "      <td>-0.001116</td>\n",
       "      <td>0.058499</td>\n",
       "    </tr>\n",
       "    <tr>\n",
       "      <th>helpfulness</th>\n",
       "      <td>NaN</td>\n",
       "      <td>NaN</td>\n",
       "      <td>NaN</td>\n",
       "      <td>NaN</td>\n",
       "      <td>NaN</td>\n",
       "      <td>NaN</td>\n",
       "      <td>NaN</td>\n",
       "      <td>NaN</td>\n",
       "      <td>NaN</td>\n",
       "      <td>NaN</td>\n",
       "      <td>NaN</td>\n",
       "    </tr>\n",
       "    <tr>\n",
       "      <th>gender</th>\n",
       "      <td>-0.038536</td>\n",
       "      <td>-0.005701</td>\n",
       "      <td>-0.036737</td>\n",
       "      <td>0.000201</td>\n",
       "      <td>NaN</td>\n",
       "      <td>1.000000</td>\n",
       "      <td>0.022965</td>\n",
       "      <td>0.000703</td>\n",
       "      <td>-0.051869</td>\n",
       "      <td>-0.068108</td>\n",
       "      <td>-0.019109</td>\n",
       "    </tr>\n",
       "    <tr>\n",
       "      <th>category</th>\n",
       "      <td>-0.054610</td>\n",
       "      <td>0.011962</td>\n",
       "      <td>0.011270</td>\n",
       "      <td>-0.049368</td>\n",
       "      <td>NaN</td>\n",
       "      <td>0.022965</td>\n",
       "      <td>1.000000</td>\n",
       "      <td>-0.048688</td>\n",
       "      <td>-0.111538</td>\n",
       "      <td>-0.001592</td>\n",
       "      <td>-0.146022</td>\n",
       "    </tr>\n",
       "    <tr>\n",
       "      <th>item_id</th>\n",
       "      <td>-0.012764</td>\n",
       "      <td>-0.003594</td>\n",
       "      <td>0.173589</td>\n",
       "      <td>0.999765</td>\n",
       "      <td>NaN</td>\n",
       "      <td>0.000703</td>\n",
       "      <td>-0.048688</td>\n",
       "      <td>1.000000</td>\n",
       "      <td>-0.062491</td>\n",
       "      <td>-0.001383</td>\n",
       "      <td>0.057821</td>\n",
       "    </tr>\n",
       "    <tr>\n",
       "      <th>item_price</th>\n",
       "      <td>0.022551</td>\n",
       "      <td>0.020206</td>\n",
       "      <td>-0.039548</td>\n",
       "      <td>-0.058070</td>\n",
       "      <td>NaN</td>\n",
       "      <td>-0.051869</td>\n",
       "      <td>-0.111538</td>\n",
       "      <td>-0.062491</td>\n",
       "      <td>1.000000</td>\n",
       "      <td>-0.025975</td>\n",
       "      <td>0.012540</td>\n",
       "    </tr>\n",
       "    <tr>\n",
       "      <th>user_city</th>\n",
       "      <td>-0.058863</td>\n",
       "      <td>-0.011367</td>\n",
       "      <td>0.049058</td>\n",
       "      <td>-0.001116</td>\n",
       "      <td>NaN</td>\n",
       "      <td>-0.068108</td>\n",
       "      <td>-0.001592</td>\n",
       "      <td>-0.001383</td>\n",
       "      <td>-0.025975</td>\n",
       "      <td>1.000000</td>\n",
       "      <td>-0.023899</td>\n",
       "    </tr>\n",
       "    <tr>\n",
       "      <th>rating</th>\n",
       "      <td>0.070893</td>\n",
       "      <td>0.001893</td>\n",
       "      <td>-0.037373</td>\n",
       "      <td>0.058499</td>\n",
       "      <td>NaN</td>\n",
       "      <td>-0.019109</td>\n",
       "      <td>-0.146022</td>\n",
       "      <td>0.057821</td>\n",
       "      <td>0.012540</td>\n",
       "      <td>-0.023899</td>\n",
       "      <td>1.000000</td>\n",
       "    </tr>\n",
       "  </tbody>\n",
       "</table>\n",
       "</div>"
      ],
      "text/plain": [
       "               userId  timestamp    review      item  helpfulness    gender  \\\n",
       "userId       1.000000  -0.070805  0.006841 -0.012785          NaN -0.038536   \n",
       "timestamp   -0.070805   1.000000 -0.006058 -0.002174          NaN -0.005701   \n",
       "review       0.006841  -0.006058  1.000000  0.173289          NaN -0.036737   \n",
       "item        -0.012785  -0.002174  0.173289  1.000000          NaN  0.000201   \n",
       "helpfulness       NaN        NaN       NaN       NaN          NaN       NaN   \n",
       "gender      -0.038536  -0.005701 -0.036737  0.000201          NaN  1.000000   \n",
       "category    -0.054610   0.011962  0.011270 -0.049368          NaN  0.022965   \n",
       "item_id     -0.012764  -0.003594  0.173589  0.999765          NaN  0.000703   \n",
       "item_price   0.022551   0.020206 -0.039548 -0.058070          NaN -0.051869   \n",
       "user_city   -0.058863  -0.011367  0.049058 -0.001116          NaN -0.068108   \n",
       "rating       0.070893   0.001893 -0.037373  0.058499          NaN -0.019109   \n",
       "\n",
       "             category   item_id  item_price  user_city    rating  \n",
       "userId      -0.054610 -0.012764    0.022551  -0.058863  0.070893  \n",
       "timestamp    0.011962 -0.003594    0.020206  -0.011367  0.001893  \n",
       "review       0.011270  0.173589   -0.039548   0.049058 -0.037373  \n",
       "item        -0.049368  0.999765   -0.058070  -0.001116  0.058499  \n",
       "helpfulness       NaN       NaN         NaN        NaN       NaN  \n",
       "gender       0.022965  0.000703   -0.051869  -0.068108 -0.019109  \n",
       "category     1.000000 -0.048688   -0.111538  -0.001592 -0.146022  \n",
       "item_id     -0.048688  1.000000   -0.062491  -0.001383  0.057821  \n",
       "item_price  -0.111538 -0.062491    1.000000  -0.025975  0.012540  \n",
       "user_city   -0.001592 -0.001383   -0.025975   1.000000 -0.023899  \n",
       "rating      -0.146022  0.057821    0.012540  -0.023899  1.000000  "
      ]
     },
     "execution_count": 118,
     "metadata": {},
     "output_type": "execute_result"
    }
   ],
   "source": [
    "data_clean.corr()"
   ]
  },
  {
   "cell_type": "markdown",
   "id": "7cbf3513",
   "metadata": {},
   "source": [
    "**This is not a visually pleasing way to showcase our data so i visualised my data for a better\n",
    "view and understanding**"
   ]
  },
  {
   "cell_type": "code",
   "execution_count": null,
   "id": "37ec06e8",
   "metadata": {},
   "outputs": [
    {
     "data": {
      "image/png": "[encoded data removed]",
      "text/plain": [
       "<Figure size 1000x800 with 2 Axes>"
      ]
     },
     "metadata": {},
     "output_type": "display_data"
    }
   ],
   "source": [
    "plt.figure(figsize=(10, 8))\n",
    "sns.heatmap(data_clean.corr(), annot=True, cmap=\"coolwarm\")\n",
    "plt.title('Correlation Heatmap')\n",
    "plt.show()"
   ]
  },
  {
   "cell_type": "markdown",
   "id": "73b1f357",
   "metadata": {},
   "source": [
    "**The correlation heatmap shows our target variable, does not have a very strong correlation with any of the features, even tho some features like category has a somewhat highter correlation I personally think its not enough so i train my models with all beside ofcourse rating**"
   ]
  },
  {
   "cell_type": "markdown",
   "id": "30c654b5",
   "metadata": {},
   "source": [
    "# 4. Logistic Regression Model"
   ]
  },
  {
   "cell_type": "code",
   "execution_count": null,
   "id": "f343aaba",
   "metadata": {},
   "outputs": [
    {
     "data": {
      "text/plain": [
       "0.6495901639344263"
      ]
     },
     "execution_count": 120,
     "metadata": {},
     "output_type": "execute_result"
    }
   ],
   "source": [
    "# X is assigned all the columns from the cleaned dataset except for rating which we are trying to predict.\n",
    "# y is assigned the rating column, which is the variable we want to predict.\n",
    "X = data_clean.drop(columns=['rating'])\n",
    "y = data_clean['rating']\n",
    "\n",
    "# Split the data into training and testing sets (80% train, 20% test)\n",
    "X_train, X_test, y_train, y_test = train_test_split(X, y, test_size=0.2, random_state=42)\n",
    "\n",
    "# Initializing and training LR model\n",
    "# model will go through a maximum of 1000 iterations to find the optimal parameters.\n",
    "logistic_model = LogisticRegression(max_iter=1000)\n",
    "logistic_model.fit(X_train, y_train)\n",
    "\n",
    "# Make predictions on the testing set\n",
    "y_pred_logistic = logistic_model.predict(X_test)\n",
    "\n",
    "# Calculate the accuracy of the LR model\n",
    "accuracy_logistic = accuracy_score(y_test, y_pred_logistic)\n",
    "\n",
    "accuracy_logistic\n"
   ]
  },
  {
   "cell_type": "markdown",
   "id": "e0e24ec3",
   "metadata": {},
   "source": [
    "# 5. KNN Model"
   ]
  },
  {
   "cell_type": "code",
   "execution_count": null,
   "id": "c33323ba",
   "metadata": {},
   "outputs": [
    {
     "data": {
      "text/plain": [
       "0.5942622950819673"
      ]
     },
     "execution_count": 121,
     "metadata": {},
     "output_type": "execute_result"
    }
   ],
   "source": [
    "#Initializing and training our model\n",
    "knn_model = KNeighborsClassifier(n_neighbors=5)\n",
    "knn_model.fit(X_train, y_train)\n",
    "\n",
    "# Make predictions on the testing set\n",
    "y_pred_knn = knn_model.predict(X_test)\n",
    "\n",
    "# Calculate the accuracy of KNN model\n",
    "accuracy_knn = accuracy_score(y_test, y_pred_knn)\n",
    "\n",
    "accuracy_knn"
   ]
  },
  {
   "cell_type": "markdown",
   "id": "52f71ab9",
   "metadata": {},
   "source": [
    "## 5.1 Fine Tuning our KNN Model\n",
    "Tuning k helps achieve the best performance\n",
    "- if k is low the model might be overinfluenced by the anomalies\n",
    "- if k is high model can ignore details\n"
   ]
  },
  {
   "cell_type": "code",
   "execution_count": null,
   "id": "ce83d560",
   "metadata": {},
   "outputs": [
    {
     "name": "stdout",
     "output_type": "stream",
     "text": [
      "best k value = 47 \n",
      "accuracy of best k value = 0.6495901639344263\n"
     ]
    }
   ],
   "source": [
    "# Testing k from 1 to 50\n",
    "k_values = list(range(1, 51)) \n",
    "# Initializing a list to store accuracy for different values of k\n",
    "accuracy_list = []\n",
    "\n",
    "# Loop over different values of k\n",
    "for k in k_values:\n",
    "    # Train the KNN model in a loop\n",
    "    knn_model = KNeighborsClassifier(n_neighbors=k)\n",
    "    knn_model.fit(X_train, y_train)\n",
    "    \n",
    "    # Make predictions on the testing set and calculate accuracy\n",
    "    y_pred_knn = knn_model.predict(X_test)\n",
    "    accuracy_knn = accuracy_score(y_test, y_pred_knn)\n",
    "    accuracy_list.append(accuracy_knn)\n",
    "\n",
    "# Find the optimal k and corresponding accuracy without plotting\n",
    "optimal_k= k_values[accuracy_list.index(max(accuracy_list))]\n",
    "optimal_accuracy = max(accuracy_list)\n",
    "\n",
    "print(\"best k value =\", optimal_k_no_plot, \"\\naccuracy of best k value =\", optimal_accuracy)\n",
    "\n"
   ]
  },
  {
   "cell_type": "markdown",
   "id": "7aac2402",
   "metadata": {},
   "source": [
    "**tuning k improved the accuracy from 59 to 64**"
   ]
  },
  {
   "cell_type": "markdown",
   "id": "2ced56fe",
   "metadata": {},
   "source": [
    "# 6. Comparing models"
   ]
  },
  {
   "cell_type": "markdown",
   "id": "edef186d",
   "metadata": {},
   "source": [
    "- Both Logistic Regression and KNN models have similar performance of 64 accuarcy on our dataset\n",
    "- each model has their on pros and cons LR model is faster KNN can help us with more complex problems"
   ]
  }
 ],
 "metadata": {
  "colab": {
   "provenance": []
  },
  "kernelspec": {
   "display_name": "Python 3 (ipykernel)",
   "language": "python",
   "name": "python3"
  },
  "language_info": {
   "codemirror_mode": {
    "name": "ipython",
    "version": 3
   },
   "file_extension": ".py",
   "mimetype": "text/x-python",
   "name": "python",
   "nbconvert_exporter": "python",
   "pygments_lexer": "ipython3",
   "version": "3.11.3"
  }
 },
 "nbformat": 4,
 "nbformat_minor": 5
}
